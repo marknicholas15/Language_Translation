{
 "cells": [
  {
   "cell_type": "code",
   "execution_count": 1,
   "id": "blond-facing",
   "metadata": {},
   "outputs": [],
   "source": [
    "with open('deu-eng.txt', 'r', encoding='utf-8') as f:\n",
    "  lines = f.read().split('\\n')"
   ]
  },
  {
   "cell_type": "code",
   "execution_count": 2,
   "id": "residential-diagram",
   "metadata": {},
   "outputs": [
    {
     "data": {
      "text/plain": [
       "\"It's me!\\tIch bin's.\""
      ]
     },
     "execution_count": 2,
     "metadata": {},
     "output_type": "execute_result"
    }
   ],
   "source": [
    "lines[155]"
   ]
  },
  {
   "cell_type": "code",
   "execution_count": 3,
   "id": "requested-format",
   "metadata": {},
   "outputs": [
    {
     "data": {
      "text/plain": [
       "169814"
      ]
     },
     "execution_count": 3,
     "metadata": {},
     "output_type": "execute_result"
    }
   ],
   "source": [
    "len(lines)"
   ]
  },
  {
   "cell_type": "code",
   "execution_count": 4,
   "id": "employed-catalog",
   "metadata": {},
   "outputs": [],
   "source": [
    "input_texts = []\n",
    "target_texts = []\n",
    "input_characters = set()\n",
    "target_characters = set()"
   ]
  },
  {
   "cell_type": "code",
   "execution_count": 5,
   "id": "numerous-wellington",
   "metadata": {},
   "outputs": [
    {
     "data": {
      "text/plain": [
       "10000"
      ]
     },
     "execution_count": 5,
     "metadata": {},
     "output_type": "execute_result"
    }
   ],
   "source": [
    "num_samples = 10000\n",
    "num_samples"
   ]
  },
  {
   "cell_type": "code",
   "execution_count": 6,
   "id": "vertical-beaver",
   "metadata": {},
   "outputs": [],
   "source": [
    "for line in lines[: min(num_samples, len(lines) - 1)]:\n",
    "  input_text, target_text = line.split('\\t')\n",
    "  target_text = '\\t' + target_text + '\\n'\n",
    "  input_texts.append(input_text)\n",
    "  target_texts.append(target_text)\n",
    "  for char in input_text:\n",
    "    if char not in input_characters:\n",
    "      input_characters.add(char)\n",
    "  for char in target_text:\n",
    "    if char not in target_characters:\n",
    "      target_characters.add(char)"
   ]
  },
  {
   "cell_type": "code",
   "execution_count": 7,
   "id": "champion-helmet",
   "metadata": {},
   "outputs": [
    {
     "name": "stdout",
     "output_type": "stream",
     "text": [
      "Number of samples: 10000\n",
      "Number of unique input tokens: 70\n",
      "Number of unique output tokens: 87\n",
      "Max sequence length for inputs: 16\n",
      "Max sequence length for outputs: 53\n"
     ]
    }
   ],
   "source": [
    "input_characters = sorted(list(input_characters))\n",
    "target_characters = sorted(list(target_characters))\n",
    "num_encoder_tokens = len(input_characters)\n",
    "num_decoder_tokens = len(target_characters)\n",
    "max_encoder_seq_length = max([len(txt) for txt in input_texts])\n",
    "max_decoder_seq_length = max([len(txt) for txt in target_texts])\n",
    "\n",
    "print('Number of samples:', len(input_texts))\n",
    "print('Number of unique input tokens:', num_encoder_tokens)\n",
    "print('Number of unique output tokens:', num_decoder_tokens)\n",
    "print('Max sequence length for inputs:', max_encoder_seq_length)\n",
    "print('Max sequence length for outputs:', max_decoder_seq_length)"
   ]
  },
  {
   "cell_type": "code",
   "execution_count": 8,
   "id": "given-cross",
   "metadata": {},
   "outputs": [],
   "source": [
    "input_token_index = dict(\n",
    "  [(char, i) for i, char in enumerate(input_characters)])\n",
    "target_token_index = dict(\n",
    "  [(char, i) for i, char in enumerate(target_characters)])"
   ]
  },
  {
   "cell_type": "code",
   "execution_count": 9,
   "id": "restricted-benefit",
   "metadata": {},
   "outputs": [],
   "source": [
    "import numpy as np\n",
    "\n",
    "encoder_input_data = np.zeros(\n",
    "  (len(input_texts), max_encoder_seq_length, num_encoder_tokens),\n",
    "  dtype='float32')\n",
    "decoder_input_data = np.zeros(\n",
    "  (len(input_texts), max_decoder_seq_length, num_decoder_tokens),\n",
    "  dtype='float32')\n",
    "decoder_target_data = np.zeros(\n",
    "  (len(input_texts), max_decoder_seq_length, num_decoder_tokens),\n",
    "  dtype='float32')"
   ]
  },
  {
   "cell_type": "code",
   "execution_count": 10,
   "id": "chief-luxembourg",
   "metadata": {},
   "outputs": [
    {
     "data": {
      "text/plain": [
       "(10000, 16, 70)"
      ]
     },
     "execution_count": 10,
     "metadata": {},
     "output_type": "execute_result"
    }
   ],
   "source": [
    "encoder_input_data.shape"
   ]
  },
  {
   "cell_type": "code",
   "execution_count": 11,
   "id": "protecting-representative",
   "metadata": {},
   "outputs": [],
   "source": [
    "for i, (input_text, target_text) in enumerate(zip(input_texts, target_texts)):\n",
    "  for t, char in enumerate(input_text):\n",
    "    encoder_input_data[i, t, input_token_index[char]] = 1.\n",
    "  for t, char in enumerate(target_text):\n",
    "    # decoder_target_data is ahead of decoder_input_data by one timestep\n",
    "    decoder_input_data[i, t, target_token_index[char]] = 1.\n",
    "    if t > 0:\n",
    "      # decoder_target_data will be ahead by one timestep\n",
    "      # and will not include the start character.\n",
    "      decoder_target_data[i, t - 1, target_token_index[char]] = 1."
   ]
  },
  {
   "cell_type": "code",
   "execution_count": 12,
   "id": "spare-fundamentals",
   "metadata": {},
   "outputs": [
    {
     "data": {
      "text/plain": [
       "(16, 70)"
      ]
     },
     "execution_count": 12,
     "metadata": {},
     "output_type": "execute_result"
    }
   ],
   "source": [
    "encoder_input_data[155].shape"
   ]
  },
  {
   "cell_type": "code",
   "execution_count": 13,
   "id": "accepted-radius",
   "metadata": {},
   "outputs": [
    {
     "name": "stderr",
     "output_type": "stream",
     "text": [
      "Using TensorFlow backend.\n"
     ]
    }
   ],
   "source": [
    "import keras, tensorflow\n",
    "from keras.models import Model\n",
    "from keras.layers import Input, LSTM, Dense\n",
    "import numpy as np"
   ]
  },
  {
   "cell_type": "code",
   "execution_count": 14,
   "id": "complex-trinidad",
   "metadata": {},
   "outputs": [],
   "source": [
    "batch_size = 64  # batch size for training\n",
    "epochs = 100  # number of epochs to train for\n",
    "latent_dim = 256  # latent dimensionality of the encoding space/"
   ]
  },
  {
   "cell_type": "code",
   "execution_count": 15,
   "id": "ongoing-prince",
   "metadata": {},
   "outputs": [],
   "source": [
    "encoder_inputs = Input(shape=(None, num_encoder_tokens))\n",
    "encoder = LSTM(latent_dim, return_state=True)\n",
    "encoder_outputs, state_h, state_c = encoder(encoder_inputs)\n",
    "encoder_states = [state_h, state_c]"
   ]
  },
  {
   "cell_type": "code",
   "execution_count": 16,
   "id": "rough-weekend",
   "metadata": {},
   "outputs": [],
   "source": [
    "decoder_inputs = Input(shape=(None, num_decoder_tokens))\n",
    "decoder_lstm = LSTM(latent_dim, return_sequences=True, return_state=True)\n",
    "decoder_outputs, _, _ = decoder_lstm(decoder_inputs,\n",
    "                                     initial_state=encoder_states)\n",
    "decoder_dense = Dense(num_decoder_tokens, activation='softmax')\n",
    "decoder_outputs = decoder_dense(decoder_outputs)"
   ]
  },
  {
   "cell_type": "code",
   "execution_count": 17,
   "id": "located-patent",
   "metadata": {},
   "outputs": [],
   "source": [
    "model = Model(inputs=[encoder_inputs, decoder_inputs], \n",
    "              outputs=decoder_outputs)"
   ]
  },
  {
   "cell_type": "code",
   "execution_count": 18,
   "id": "agricultural-review",
   "metadata": {},
   "outputs": [
    {
     "name": "stdout",
     "output_type": "stream",
     "text": [
      "Model: \"model_1\"\n",
      "__________________________________________________________________________________________________\n",
      "Layer (type)                    Output Shape         Param #     Connected to                     \n",
      "==================================================================================================\n",
      "input_1 (InputLayer)            (None, None, 70)     0                                            \n",
      "__________________________________________________________________________________________________\n",
      "input_2 (InputLayer)            (None, None, 87)     0                                            \n",
      "__________________________________________________________________________________________________\n",
      "lstm_1 (LSTM)                   [(None, 256), (None, 334848      input_1[0][0]                    \n",
      "__________________________________________________________________________________________________\n",
      "lstm_2 (LSTM)                   [(None, None, 256),  352256      input_2[0][0]                    \n",
      "                                                                 lstm_1[0][1]                     \n",
      "                                                                 lstm_1[0][2]                     \n",
      "__________________________________________________________________________________________________\n",
      "dense_1 (Dense)                 (None, None, 87)     22359       lstm_2[0][0]                     \n",
      "==================================================================================================\n",
      "Total params: 709,463\n",
      "Trainable params: 709,463\n",
      "Non-trainable params: 0\n",
      "__________________________________________________________________________________________________\n"
     ]
    }
   ],
   "source": [
    "model.compile(optimizer='rmsprop', loss='categorical_crossentropy')\n",
    "model.summary()"
   ]
  },
  {
   "cell_type": "code",
   "execution_count": 19,
   "id": "central-knowing",
   "metadata": {},
   "outputs": [
    {
     "name": "stdout",
     "output_type": "stream",
     "text": [
      "Train on 8000 samples, validate on 2000 samples\n",
      "Epoch 1/100\n",
      "8000/8000 [==============================] - 6s 772us/step - loss: 1.0253 - val_loss: 1.0631\n",
      "Epoch 2/100\n",
      "8000/8000 [==============================] - 5s 674us/step - loss: 0.8035 - val_loss: 0.8607\n",
      "Epoch 3/100\n",
      "8000/8000 [==============================] - 5s 687us/step - loss: 0.6754 - val_loss: 0.7612\n",
      "Epoch 4/100\n",
      "8000/8000 [==============================] - 6s 703us/step - loss: 0.6108 - val_loss: 0.7182\n",
      "Epoch 5/100\n",
      "8000/8000 [==============================] - 6s 713us/step - loss: 0.5634 - val_loss: 0.6787\n",
      "Epoch 6/100\n",
      "8000/8000 [==============================] - 6s 714us/step - loss: 0.5297 - val_loss: 0.6485\n",
      "Epoch 7/100\n",
      "8000/8000 [==============================] - 6s 722us/step - loss: 0.5028 - val_loss: 0.6271\n",
      "Epoch 8/100\n",
      "8000/8000 [==============================] - 6s 715us/step - loss: 0.4802 - val_loss: 0.6105\n",
      "Epoch 9/100\n",
      "8000/8000 [==============================] - 6s 740us/step - loss: 0.4599 - val_loss: 0.5916\n",
      "Epoch 10/100\n",
      "8000/8000 [==============================] - 6s 752us/step - loss: 0.4424 - val_loss: 0.5789 - loss: - ETA: 0s - lo\n",
      "Epoch 11/100\n",
      "8000/8000 [==============================] - 6s 729us/step - loss: 0.4265 - val_loss: 0.5711\n",
      "Epoch 12/100\n",
      "8000/8000 [==============================] - 6s 747us/step - loss: 0.4113 - val_loss: 0.5599\n",
      "Epoch 13/100\n",
      "8000/8000 [==============================] - 6s 740us/step - loss: 0.3982 - val_loss: 0.5510\n",
      "Epoch 14/100\n",
      "8000/8000 [==============================] - 6s 736us/step - loss: 0.3853 - val_loss: 0.5433\n",
      "Epoch 15/100\n",
      "8000/8000 [==============================] - 6s 755us/step - loss: 0.3733 - val_loss: 0.5404: 0.3\n",
      "Epoch 16/100\n",
      "8000/8000 [==============================] - 6s 745us/step - loss: 0.3620 - val_loss: 0.5336 E\n",
      "Epoch 17/100\n",
      "8000/8000 [==============================] - 6s 754us/step - loss: 0.3514 - val_loss: 0.5298 l\n",
      "Epoch 18/100\n",
      "8000/8000 [==============================] - 6s 765us/step - loss: 0.3409 - val_loss: 0.5293ETA: 4s - loss - - ETA: 1s - loss: 0.3 - ETA: 1s - loss: 0.3 - ETA: 0s - loss: 0. - ETA: 0s - loss: 0. - ETA: 0s - loss: 0.34\n",
      "Epoch 19/100\n",
      "8000/8000 [==============================] - 6s 758us/step - loss: 0.3310 - val_loss: 0.5223ETA: 4s - loss: 0.3 - ETA: 4s - l - ETA: 3s - l - ETA: 2s - ETA: 1s -\n",
      "Epoch 20/100\n",
      "8000/8000 [==============================] - 6s 766us/step - loss: 0.3216 - val_loss: 0.5219 ETA: 5s - loss: 0. - ETA: 4s - loss: 0.325 - ETA: 4s  - ETA: 3s - loss: - ETA - ETA: 1\n",
      "Epoch 21/100\n",
      "8000/8000 [==============================] - 6s 767us/step - loss: 0.3121 - val_loss: 0.5183\n",
      "Epoch 22/100\n",
      "8000/8000 [==============================] - 6s 767us/step - loss: 0.3033 - val_loss: 0.52543 - ETA: 1s\n",
      "Epoch 23/100\n",
      "8000/8000 [==============================] - 6s 779us/step - loss: 0.2951 - val_loss: 0.5205ss:  - ETA: 0s - loss: 0.295 - ETA: 0s - loss: 0.\n",
      "Epoch 24/100\n",
      "8000/8000 [==============================] - 6s 758us/step - loss: 0.2865 - val_loss: 0.5168 -\n",
      "Epoch 25/100\n",
      "8000/8000 [==============================] - 6s 777us/step - loss: 0.2785 - val_loss: 0.5234A: 4s - lo - ETA:\n",
      "Epoch 26/100\n",
      "8000/8000 [==============================] - 6s 766us/step - loss: 0.2713 - val_loss: 0.5239 ETA: 2s - los - ETA: 2s - loss - ETA: 1s - los - ETA: 0s - loss: 0\n",
      "Epoch 27/100\n",
      "8000/8000 [==============================] - 6s 765us/step - loss: 0.2638 - val_loss: 0.5293 4s - loss: \n",
      "Epoch 28/100\n",
      "8000/8000 [==============================] - 6s 780us/step - loss: 0.2563 - val_loss: 0.5265\n",
      "Epoch 29/100\n",
      "8000/8000 [==============================] - 6s 773us/step - loss: 0.2497 - val_loss: 0.5253TA: 5s - loss: - ETA: 4s - loss: - ETA: 3s - loss: - ETA: 3s - los - ETA: 2s - ETA: 1s - lo - ETA: 0s - loss: 0.249 - ETA: 0s - loss: 0.24\n",
      "Epoch 30/100\n",
      "8000/8000 [==============================] - 6s 786us/step - loss: 0.2427 - val_loss: 0.5299: 0s - loss: 0.2 - ETA: 0s - loss: 0.2\n",
      "Epoch 31/100\n",
      "8000/8000 [==============================] - 6s 774us/step - loss: 0.2366 - val_loss: 0.5395- loss: 0 - ETA: 3s - loss:  - ETA: 3s - loss: 0.23 - ETA: 2s - loss:  - ETA: 2s - loss: 0 - ETA: 2s - loss: 0.2 - ETA: 1s  - ETA: 0s - loss:  - ETA: 0s - loss: 0.236\n",
      "Epoch 32/100\n",
      "8000/8000 [==============================] - 6s 787us/step - loss: 0.2302 - val_loss: 0.5363- ETA: 0s - loss:\n",
      "Epoch 33/100\n",
      "8000/8000 [==============================] - 6s 789us/step - loss: 0.2240 - val_loss: 0.5400A: 1s\n",
      "Epoch 34/100\n",
      "8000/8000 [==============================] - 6s 777us/step - loss: 0.2177 - val_loss: 0.5466TA: 0s - loss: 0.21 - ETA: 0s - l\n",
      "Epoch 35/100\n",
      "8000/8000 [==============================] - 6s 788us/step - loss: 0.2120 - val_loss: 0.5423- ETA:\n",
      "Epoch 36/100\n",
      "8000/8000 [==============================] - 6s 795us/step - loss: 0.2069 - val_loss: 0.5509 5s - - ETA:  - ETA: 2s - loss: 0.2 - ETA: 1s - loss: 0. - ETA:  - ETA: 0s - loss: 0.207\n",
      "Epoch 37/100\n",
      "8000/8000 [==============================] - 6s 787us/step - loss: 0.2016 - val_loss: 0.5602TA: 5s - loss: - ETA: 4s - loss: - ETA: 4s - loss: 0.195 - ETA: 3s - los - ETA: 3s - loss: 0.197 - ETA: 3s - los - ETA: 2s - loss: 0.1 - ETA: 1s - loss: 0.199 - ETA: 1s - l - ETA: 0s - loss: 0.200 - ETA: 0s - \n",
      "Epoch 38/100\n",
      "8000/8000 [==============================] - 6s 788us/step - loss: 0.1960 - val_loss: 0.5577: 0.194 - ETA:  - ETA\n",
      "Epoch 39/100\n",
      "8000/8000 [==============================] - 7s 859us/step - loss: 0.1910 - val_loss: 0.5647\n",
      "Epoch 40/100\n",
      "8000/8000 [==============================] - 7s 826us/step - loss: 0.1863 - val_loss: 0.5707- l - ETA: 3s - loss: 0.180 - ETA: 3s - loss: 0.1 - ETA: 3s - l - ETA: 2s - loss\n",
      "Epoch 41/100\n",
      "8000/8000 [==============================] - 7s 816us/step - loss: 0.1817 - val_loss: 0.5759 - ETA: 1s - loss: 0.179 - ETA: 1s - loss: 0. - ET\n",
      "Epoch 42/100\n",
      "8000/8000 [==============================] - 6s 781us/step - loss: 0.1772 - val_loss: 0.5741\n",
      "Epoch 43/100\n",
      "8000/8000 [==============================] - 6s 803us/step - loss: 0.1728 - val_loss: 0.5867 - - ETA: 0s - loss: 0\n",
      "Epoch 44/100\n",
      "8000/8000 [==============================] - 6s 778us/step - loss: 0.1688 - val_loss: 0.5907\n",
      "Epoch 45/100\n",
      "8000/8000 [==============================] - 6s 790us/step - loss: 0.1643 - val_loss: 0.5970ss: 0.1 - ETA: 2s - loss -\n",
      "Epoch 46/100\n",
      "8000/8000 [==============================] - 6s 808us/step - loss: 0.1602 - val_loss: 0.6023 0.15 - ETA: 5s - l\n",
      "Epoch 47/100\n",
      "8000/8000 [==============================] - 6s 781us/step - loss: 0.1566 - val_loss: 0.6073\n",
      "Epoch 48/100\n",
      "8000/8000 [==============================] - 6s 798us/step - loss: 0.1529 - val_loss: 0.6128 ETA: 0s - loss: 0.152 - ETA: 0s - loss: 0. - ETA: 0s - loss: 0.1 - ETA: 0s - loss: 0.15\n",
      "Epoch 49/100\n",
      "8000/8000 [==============================] - 6s 786us/step - loss: 0.1490 - val_loss: 0.6177\n",
      "Epoch 50/100\n",
      "8000/8000 [==============================] - 7s 842us/step - loss: 0.1457 - val_loss: 0.6229A: 5s -  - ETA: 4s - loss:  - ETA: 3s - loss: 0.140 - ETA: \n",
      "Epoch 51/100\n",
      "8000/8000 [==============================] - 7s 827us/step - loss: 0.1422 - val_loss: 0.6324s - loss:\n",
      "Epoch 52/100\n",
      "8000/8000 [==============================] - 6s 797us/step - loss: 0.1391 - val_loss: 0.6319\n",
      "Epoch 53/100\n",
      "8000/8000 [==============================] - 6s 807us/step - loss: 0.1360 - val_loss: 0.6357\n",
      "Epoch 54/100\n",
      "8000/8000 [==============================] - 6s 789us/step - loss: 0.1330 - val_loss: 0.6521- loss: 0\n",
      "Epoch 55/100\n",
      "8000/8000 [==============================] - 6s 785us/step - loss: 0.1294 - val_loss: 0.6488 l\n",
      "Epoch 56/100\n",
      "8000/8000 [==============================] - 6s 801us/step - loss: 0.1271 - val_loss: 0.65090.1 - ETA: 3s - loss:  -  - ETA: 0s - lo - ETA: 0s - loss: 0.1\n",
      "Epoch 57/100\n",
      "8000/8000 [==============================] - 6s 785us/step - loss: 0.1238 - val_loss: 0.6605 ETA: 4s - loss: 0 - ETA: 4s -  - ETA: 3s - loss: 0 - ETA: 2s -  - ETA: 1s - loss: 0. - ETA: 1 - ETA: 0s - loss: 0.12\n",
      "Epoch 58/100\n",
      "8000/8000 [==============================] - 6s 803us/step - loss: 0.1213 - val_loss: 0.6711\n",
      "Epoch 59/100\n",
      "8000/8000 [==============================] - 6s 788us/step - loss: 0.1190 - val_loss: 0.6771- los - ETA: 3s -  - ETA: 2s - loss -\n",
      "Epoch 60/100\n",
      "8000/8000 [==============================] - 6s 782us/step - loss: 0.1160 - val_loss: 0.6834 0s - loss: 0.1\n",
      "Epoch 61/100\n"
     ]
    },
    {
     "name": "stdout",
     "output_type": "stream",
     "text": [
      "8000/8000 [==============================] - 7s 815us/step - loss: 0.1136 - val_loss: 0.6818\n",
      "Epoch 62/100\n",
      "8000/8000 [==============================] - 6s 794us/step - loss: 0.1113 - val_loss: 0.69282s - loss: 0.1 - ETA: 1s  - ETA: 0s - loss: 0 - ETA: 0s - loss: 0\n",
      "Epoch 63/100\n",
      "8000/8000 [==============================] - 7s 818us/step - loss: 0.1091 - val_loss: 0.6960 0s - \n",
      "Epoch 64/100\n",
      "8000/8000 [==============================] - 6s 793us/step - loss: 0.1073 - val_loss: 0.6975 ETA: 5s - loss: 0.098 - ETA: 5s - loss: 0. - ETA: 4s - loss: 0.1 - ETA: - E - ETA: 1s \n",
      "Epoch 65/100\n",
      "8000/8000 [==============================] - 6s 797us/step - loss: 0.1051 - val_loss: 0.7044\n",
      "Epoch 66/100\n",
      "8000/8000 [==============================] - 7s 823us/step - loss: 0.1028 - val_loss: 0.7090\n",
      "Epoch 67/100\n",
      "8000/8000 [==============================] - 6s 787us/step - loss: 0.1006 - val_loss: 0.7135: 4s - loss: 0.095 - ETA: 4s - loss: 0.0 - ETA: 4s - - ETA: 0s - lo\n",
      "Epoch 68/100\n",
      "8000/8000 [==============================] - 6s 804us/step - loss: 0.0985 - val_loss: 0.7229oss: 0.09 - ETA: 1s  - ETA: 0s - lo\n",
      "Epoch 69/100\n",
      "8000/8000 [==============================] - 6s 799us/step - loss: 0.0967 - val_loss: 0.7254T - ETA: 3s - - ETA: 2s - loss:\n",
      "Epoch 70/100\n",
      "8000/8000 [==============================] - 6s 806us/step - loss: 0.0946 - val_loss: 0.7350\n",
      "Epoch 71/100\n",
      "8000/8000 [==============================] - 7s 814us/step - loss: 0.0929 - val_loss: 0.7358\n",
      "Epoch 72/100\n",
      "8000/8000 [==============================] - 6s 793us/step - loss: 0.0912 - val_loss: 0.7411: 5s - loss: 0.08 - ETA: 5s - loss: - ETA: 4s - los - ETA - ETA: 0s - loss: 0.09\n",
      "Epoch 73/100\n",
      "8000/8000 [==============================] - 7s 816us/step - loss: 0.0894 - val_loss: 0.7421TA: 1s - loss:  - ETA: 1s - loss: 0.08 - ETA: 1s - loss: 0 - ETA: 0s - l\n",
      "Epoch 74/100\n",
      "8000/8000 [==============================] - 6s 799us/step - loss: 0.0883 - val_loss: 0.7487s: 0 \n",
      "Epoch 75/100\n",
      "8000/8000 [==============================] - 6s 793us/step - loss: 0.0858 - val_loss: 0.7601\n",
      "Epoch 76/100\n",
      "8000/8000 [==============================] - 6s 812us/step - loss: 0.0842 - val_loss: 0.7579\n",
      "Epoch 77/100\n",
      "8000/8000 [==============================] - 6s 793us/step - loss: 0.0828 - val_loss: 0.76500s - lo\n",
      "Epoch 78/100\n",
      "8000/8000 [==============================] - 6s 805us/step - loss: 0.0817 - val_loss: 0.7716- lo - ETA: 1s\n",
      "Epoch 79/100\n",
      "8000/8000 [==============================] - 6s 797us/step - loss: 0.0799 - val_loss: 0.7770ETA: 5 - ETA:  - ETA: 0s - loss:  - ETA: 0s - loss: 0.079\n",
      "Epoch 80/100\n",
      "8000/8000 [==============================] - 6s 796us/step - loss: 0.0787 - val_loss: 0.7811\n",
      "Epoch 81/100\n",
      "8000/8000 [==============================] - 6s 809us/step - loss: 0.0771 - val_loss: 0.7870\n",
      "Epoch 82/100\n",
      "8000/8000 [==============================] - 6s 786us/step - loss: 0.0757 - val_loss: 0.7887: - ETA: 3s  - ETA: 1s - l - ETA: 0s - loss: 0.075 - ETA: 0s - loss: 0.07 - ETA: 0s - loss\n",
      "Epoch 83/100\n",
      "8000/8000 [==============================] - 6s 805us/step - loss: 0.0745 - val_loss: 0.7917s - loss - ETA: 1s - loss: 0.072 - ETA: 1s - loss: 0.072 - ETA: 1s - loss: - ETA: 1s - loss: 0 - ETA: 0s - lo\n",
      "Epoch 84/100\n",
      "8000/8000 [==============================] - 6s 790us/step - loss: 0.0732 - val_loss: 0.79730 - ETA: 1s - loss: - ETA: 0s - loss:  - ETA: 0s - loss:\n",
      "Epoch 85/100\n",
      "8000/8000 [==============================] - 6s 797us/step - loss: 0.0723 - val_loss: 0.80004s - loss - ETA: 4s - lo - ETA: 1s - los - ETA: 0s - loss:\n",
      "Epoch 86/100\n",
      "8000/8000 [==============================] - 6s 801us/step - loss: 0.0706 - val_loss: 0.8116 3s - loss: 0 - ETA: 3s  - ETA: - ETA: 0s - loss:\n",
      "Epoch 87/100\n",
      "8000/8000 [==============================] - 6s 794us/step - loss: 0.0694 - val_loss: 0.8144 ETA: 4s - loss: 0.0 - ETA: 3s - loss: 0. - ETA: 3s - l - ETA: 0s - loss: 0.0\n",
      "Epoch 88/100\n",
      "8000/8000 [==============================] - 6s 807us/step - loss: 0.0685 - val_loss: 0.8233\n",
      "Epoch 89/100\n",
      "8000/8000 [==============================] - 6s 795us/step - loss: 0.0670 - val_loss: 0.8239s - loss: 0.065 - ETA: 2s - loss:  - ETA: 2s - los - ETA: 1s - loss: - ETA: 0s - loss: 0.06 - ETA: 0s - loss: \n",
      "Epoch 90/100\n",
      "8000/8000 [==============================] - 6s 795us/step - loss: 0.0664 - val_loss: 0.8232\n",
      "Epoch 91/100\n",
      "8000/8000 [==============================] - 7s 833us/step - loss: 0.0651 - val_loss: 0.8330s - loss: 0. - ETA: 3s - loss -\n",
      "Epoch 92/100\n",
      "8000/8000 [==============================] - 6s 791us/step - loss: 0.0635 - val_loss: 0.8345s - los  - ETA: 1\n",
      "Epoch 93/100\n",
      "8000/8000 [==============================] - 7s 814us/step - loss: 0.0628 - val_loss: 0.8391 4s - loss: 0. - ET - ETA: 0s -\n",
      "Epoch 94/100\n",
      "8000/8000 [==============================] - 6s 798us/step - loss: 0.0618 - val_loss: 0.8510ETA: 5s - - ETA: 4s - loss: 0.0 - ETA: 4s - loss: 0.0 - ETA: 3s - loss: 0. - ETA: 3s - loss: 0 - ETA: 2s - loss: 0 - ETA: 2s - loss: 0. - ETA: 2s - loss: 0 - ETA: 1 - ETA: 0s - loss: \n",
      "Epoch 95/100\n",
      "8000/8000 [==============================] - 6s 802us/step - loss: 0.0610 - val_loss: 0.8486 4s - loss:  - ETA: 3s - - ETA: 2 - ETA: 1s - loss: 0.060 - ETA:\n",
      "Epoch 96/100\n",
      "8000/8000 [==============================] - 7s 821us/step - loss: 0.0598 - val_loss: 0.85424s - loss: 0 - ETA: 4s - loss: 0 - ETA: - ETA: 2s - loss: 0 - ETA: 2s - loss:  - ET - ETA: 0s - loss:\n",
      "Epoch 97/100\n",
      "8000/8000 [==============================] - 6s 797us/step - loss: 0.0588 - val_loss: 0.8574- ETA: 1s - loss: 0.05 - ETA: 0s - \n",
      "Epoch 98/100\n",
      "8000/8000 [==============================] - 7s 816us/step - loss: 0.0580 - val_loss: 0.8585\n",
      "Epoch 99/100\n",
      "8000/8000 [==============================] - 6s 806us/step - loss: 0.0571 - val_loss: 0.8649 - loss: 0. - ETA: 1s - loss:  - ETA: 1s  - ETA: 0s - loss: 0.057\n",
      "Epoch 100/100\n",
      "8000/8000 [==============================] - 6s 807us/step - loss: 0.0561 - val_loss: 0.8683\n"
     ]
    },
    {
     "ename": "OSError",
     "evalue": "Unable to create file (unable to open file: name = '/results/seq2seq_eng-ger.h5', errno = 2, error message = 'No such file or directory', flags = 13, o_flags = 302)",
     "output_type": "error",
     "traceback": [
      "\u001b[1;31m---------------------------------------------------------------------------\u001b[0m",
      "\u001b[1;31mOSError\u001b[0m                                   Traceback (most recent call last)",
      "\u001b[1;32m<ipython-input-19-0f76b8d2d249>\u001b[0m in \u001b[0;36m<module>\u001b[1;34m\u001b[0m\n\u001b[0;32m      3\u001b[0m           \u001b[0mepochs\u001b[0m\u001b[1;33m=\u001b[0m\u001b[0mepochs\u001b[0m\u001b[1;33m,\u001b[0m\u001b[1;33m\u001b[0m\u001b[1;33m\u001b[0m\u001b[0m\n\u001b[0;32m      4\u001b[0m           validation_split=0.2)\n\u001b[1;32m----> 5\u001b[1;33m \u001b[0mmodel\u001b[0m\u001b[1;33m.\u001b[0m\u001b[0msave\u001b[0m\u001b[1;33m(\u001b[0m\u001b[1;34m'/results/seq2seq_eng-ger.h5'\u001b[0m\u001b[1;33m)\u001b[0m\u001b[1;33m\u001b[0m\u001b[1;33m\u001b[0m\u001b[0m\n\u001b[0m",
      "\u001b[1;32m~\\miniconda3\\envs\\tensorflow\\lib\\site-packages\\keras\\engine\\network.py\u001b[0m in \u001b[0;36msave\u001b[1;34m(self, filepath, overwrite, include_optimizer)\u001b[0m\n\u001b[0;32m   1150\u001b[0m             \u001b[1;32mraise\u001b[0m \u001b[0mNotImplementedError\u001b[0m\u001b[1;33m\u001b[0m\u001b[1;33m\u001b[0m\u001b[0m\n\u001b[0;32m   1151\u001b[0m         \u001b[1;32mfrom\u001b[0m \u001b[1;33m.\u001b[0m\u001b[1;33m.\u001b[0m\u001b[0mmodels\u001b[0m \u001b[1;32mimport\u001b[0m \u001b[0msave_model\u001b[0m\u001b[1;33m\u001b[0m\u001b[1;33m\u001b[0m\u001b[0m\n\u001b[1;32m-> 1152\u001b[1;33m         \u001b[0msave_model\u001b[0m\u001b[1;33m(\u001b[0m\u001b[0mself\u001b[0m\u001b[1;33m,\u001b[0m \u001b[0mfilepath\u001b[0m\u001b[1;33m,\u001b[0m \u001b[0moverwrite\u001b[0m\u001b[1;33m,\u001b[0m \u001b[0minclude_optimizer\u001b[0m\u001b[1;33m)\u001b[0m\u001b[1;33m\u001b[0m\u001b[1;33m\u001b[0m\u001b[0m\n\u001b[0m\u001b[0;32m   1153\u001b[0m \u001b[1;33m\u001b[0m\u001b[0m\n\u001b[0;32m   1154\u001b[0m     \u001b[1;33m@\u001b[0m\u001b[0msaving\u001b[0m\u001b[1;33m.\u001b[0m\u001b[0mallow_write_to_gcs\u001b[0m\u001b[1;33m\u001b[0m\u001b[1;33m\u001b[0m\u001b[0m\n",
      "\u001b[1;32m~\\miniconda3\\envs\\tensorflow\\lib\\site-packages\\keras\\engine\\saving.py\u001b[0m in \u001b[0;36msave_wrapper\u001b[1;34m(obj, filepath, overwrite, *args, **kwargs)\u001b[0m\n\u001b[0;32m    447\u001b[0m                 \u001b[0mos\u001b[0m\u001b[1;33m.\u001b[0m\u001b[0mremove\u001b[0m\u001b[1;33m(\u001b[0m\u001b[0mtmp_filepath\u001b[0m\u001b[1;33m)\u001b[0m\u001b[1;33m\u001b[0m\u001b[1;33m\u001b[0m\u001b[0m\n\u001b[0;32m    448\u001b[0m         \u001b[1;32melse\u001b[0m\u001b[1;33m:\u001b[0m\u001b[1;33m\u001b[0m\u001b[1;33m\u001b[0m\u001b[0m\n\u001b[1;32m--> 449\u001b[1;33m             \u001b[0msave_function\u001b[0m\u001b[1;33m(\u001b[0m\u001b[0mobj\u001b[0m\u001b[1;33m,\u001b[0m \u001b[0mfilepath\u001b[0m\u001b[1;33m,\u001b[0m \u001b[0moverwrite\u001b[0m\u001b[1;33m,\u001b[0m \u001b[1;33m*\u001b[0m\u001b[0margs\u001b[0m\u001b[1;33m,\u001b[0m \u001b[1;33m**\u001b[0m\u001b[0mkwargs\u001b[0m\u001b[1;33m)\u001b[0m\u001b[1;33m\u001b[0m\u001b[1;33m\u001b[0m\u001b[0m\n\u001b[0m\u001b[0;32m    450\u001b[0m \u001b[1;33m\u001b[0m\u001b[0m\n\u001b[0;32m    451\u001b[0m     \u001b[1;32mreturn\u001b[0m \u001b[0msave_wrapper\u001b[0m\u001b[1;33m\u001b[0m\u001b[1;33m\u001b[0m\u001b[0m\n",
      "\u001b[1;32m~\\miniconda3\\envs\\tensorflow\\lib\\site-packages\\keras\\engine\\saving.py\u001b[0m in \u001b[0;36msave_model\u001b[1;34m(model, filepath, overwrite, include_optimizer)\u001b[0m\n\u001b[0;32m    538\u001b[0m             \u001b[1;32mif\u001b[0m \u001b[1;32mnot\u001b[0m \u001b[0mproceed\u001b[0m\u001b[1;33m:\u001b[0m\u001b[1;33m\u001b[0m\u001b[1;33m\u001b[0m\u001b[0m\n\u001b[0;32m    539\u001b[0m                 \u001b[1;32mreturn\u001b[0m\u001b[1;33m\u001b[0m\u001b[1;33m\u001b[0m\u001b[0m\n\u001b[1;32m--> 540\u001b[1;33m         \u001b[1;32mwith\u001b[0m \u001b[0mH5Dict\u001b[0m\u001b[1;33m(\u001b[0m\u001b[0mfilepath\u001b[0m\u001b[1;33m,\u001b[0m \u001b[0mmode\u001b[0m\u001b[1;33m=\u001b[0m\u001b[1;34m'w'\u001b[0m\u001b[1;33m)\u001b[0m \u001b[1;32mas\u001b[0m \u001b[0mh5dict\u001b[0m\u001b[1;33m:\u001b[0m\u001b[1;33m\u001b[0m\u001b[1;33m\u001b[0m\u001b[0m\n\u001b[0m\u001b[0;32m    541\u001b[0m             \u001b[0m_serialize_model\u001b[0m\u001b[1;33m(\u001b[0m\u001b[0mmodel\u001b[0m\u001b[1;33m,\u001b[0m \u001b[0mh5dict\u001b[0m\u001b[1;33m,\u001b[0m \u001b[0minclude_optimizer\u001b[0m\u001b[1;33m)\u001b[0m\u001b[1;33m\u001b[0m\u001b[1;33m\u001b[0m\u001b[0m\n\u001b[0;32m    542\u001b[0m     \u001b[1;32melif\u001b[0m \u001b[0mhasattr\u001b[0m\u001b[1;33m(\u001b[0m\u001b[0mfilepath\u001b[0m\u001b[1;33m,\u001b[0m \u001b[1;34m'write'\u001b[0m\u001b[1;33m)\u001b[0m \u001b[1;32mand\u001b[0m \u001b[0mcallable\u001b[0m\u001b[1;33m(\u001b[0m\u001b[0mfilepath\u001b[0m\u001b[1;33m.\u001b[0m\u001b[0mwrite\u001b[0m\u001b[1;33m)\u001b[0m\u001b[1;33m:\u001b[0m\u001b[1;33m\u001b[0m\u001b[1;33m\u001b[0m\u001b[0m\n",
      "\u001b[1;32m~\\miniconda3\\envs\\tensorflow\\lib\\site-packages\\keras\\utils\\io_utils.py\u001b[0m in \u001b[0;36m__init__\u001b[1;34m(self, path, mode)\u001b[0m\n\u001b[0;32m    189\u001b[0m             \u001b[0mself\u001b[0m\u001b[1;33m.\u001b[0m\u001b[0m_is_file\u001b[0m \u001b[1;33m=\u001b[0m \u001b[1;32mFalse\u001b[0m\u001b[1;33m\u001b[0m\u001b[1;33m\u001b[0m\u001b[0m\n\u001b[0;32m    190\u001b[0m         \u001b[1;32melif\u001b[0m \u001b[0misinstance\u001b[0m\u001b[1;33m(\u001b[0m\u001b[0mpath\u001b[0m\u001b[1;33m,\u001b[0m \u001b[0msix\u001b[0m\u001b[1;33m.\u001b[0m\u001b[0mstring_types\u001b[0m\u001b[1;33m)\u001b[0m \u001b[1;32mor\u001b[0m \u001b[0m_is_path_instance\u001b[0m\u001b[1;33m(\u001b[0m\u001b[0mpath\u001b[0m\u001b[1;33m)\u001b[0m\u001b[1;33m:\u001b[0m\u001b[1;33m\u001b[0m\u001b[1;33m\u001b[0m\u001b[0m\n\u001b[1;32m--> 191\u001b[1;33m             \u001b[0mself\u001b[0m\u001b[1;33m.\u001b[0m\u001b[0mdata\u001b[0m \u001b[1;33m=\u001b[0m \u001b[0mh5py\u001b[0m\u001b[1;33m.\u001b[0m\u001b[0mFile\u001b[0m\u001b[1;33m(\u001b[0m\u001b[0mpath\u001b[0m\u001b[1;33m,\u001b[0m \u001b[0mmode\u001b[0m\u001b[1;33m=\u001b[0m\u001b[0mmode\u001b[0m\u001b[1;33m)\u001b[0m\u001b[1;33m\u001b[0m\u001b[1;33m\u001b[0m\u001b[0m\n\u001b[0m\u001b[0;32m    192\u001b[0m             \u001b[0mself\u001b[0m\u001b[1;33m.\u001b[0m\u001b[0m_is_file\u001b[0m \u001b[1;33m=\u001b[0m \u001b[1;32mTrue\u001b[0m\u001b[1;33m\u001b[0m\u001b[1;33m\u001b[0m\u001b[0m\n\u001b[0;32m    193\u001b[0m         \u001b[1;32melif\u001b[0m \u001b[0misinstance\u001b[0m\u001b[1;33m(\u001b[0m\u001b[0mpath\u001b[0m\u001b[1;33m,\u001b[0m \u001b[0mdict\u001b[0m\u001b[1;33m)\u001b[0m\u001b[1;33m:\u001b[0m\u001b[1;33m\u001b[0m\u001b[1;33m\u001b[0m\u001b[0m\n",
      "\u001b[1;32m~\\miniconda3\\envs\\tensorflow\\lib\\site-packages\\h5py\\_hl\\files.py\u001b[0m in \u001b[0;36m__init__\u001b[1;34m(self, name, mode, driver, libver, userblock_size, swmr, **kwds)\u001b[0m\n\u001b[0;32m    310\u001b[0m             \u001b[1;32mwith\u001b[0m \u001b[0mphil\u001b[0m\u001b[1;33m:\u001b[0m\u001b[1;33m\u001b[0m\u001b[1;33m\u001b[0m\u001b[0m\n\u001b[0;32m    311\u001b[0m                 \u001b[0mfapl\u001b[0m \u001b[1;33m=\u001b[0m \u001b[0mmake_fapl\u001b[0m\u001b[1;33m(\u001b[0m\u001b[0mdriver\u001b[0m\u001b[1;33m,\u001b[0m \u001b[0mlibver\u001b[0m\u001b[1;33m,\u001b[0m \u001b[1;33m**\u001b[0m\u001b[0mkwds\u001b[0m\u001b[1;33m)\u001b[0m\u001b[1;33m\u001b[0m\u001b[1;33m\u001b[0m\u001b[0m\n\u001b[1;32m--> 312\u001b[1;33m                 \u001b[0mfid\u001b[0m \u001b[1;33m=\u001b[0m \u001b[0mmake_fid\u001b[0m\u001b[1;33m(\u001b[0m\u001b[0mname\u001b[0m\u001b[1;33m,\u001b[0m \u001b[0mmode\u001b[0m\u001b[1;33m,\u001b[0m \u001b[0muserblock_size\u001b[0m\u001b[1;33m,\u001b[0m \u001b[0mfapl\u001b[0m\u001b[1;33m,\u001b[0m \u001b[0mswmr\u001b[0m\u001b[1;33m=\u001b[0m\u001b[0mswmr\u001b[0m\u001b[1;33m)\u001b[0m\u001b[1;33m\u001b[0m\u001b[1;33m\u001b[0m\u001b[0m\n\u001b[0m\u001b[0;32m    313\u001b[0m \u001b[1;33m\u001b[0m\u001b[0m\n\u001b[0;32m    314\u001b[0m                 \u001b[1;32mif\u001b[0m \u001b[0mswmr_support\u001b[0m\u001b[1;33m:\u001b[0m\u001b[1;33m\u001b[0m\u001b[1;33m\u001b[0m\u001b[0m\n",
      "\u001b[1;32m~\\miniconda3\\envs\\tensorflow\\lib\\site-packages\\h5py\\_hl\\files.py\u001b[0m in \u001b[0;36mmake_fid\u001b[1;34m(name, mode, userblock_size, fapl, fcpl, swmr)\u001b[0m\n\u001b[0;32m    146\u001b[0m         \u001b[0mfid\u001b[0m \u001b[1;33m=\u001b[0m \u001b[0mh5f\u001b[0m\u001b[1;33m.\u001b[0m\u001b[0mcreate\u001b[0m\u001b[1;33m(\u001b[0m\u001b[0mname\u001b[0m\u001b[1;33m,\u001b[0m \u001b[0mh5f\u001b[0m\u001b[1;33m.\u001b[0m\u001b[0mACC_EXCL\u001b[0m\u001b[1;33m,\u001b[0m \u001b[0mfapl\u001b[0m\u001b[1;33m=\u001b[0m\u001b[0mfapl\u001b[0m\u001b[1;33m,\u001b[0m \u001b[0mfcpl\u001b[0m\u001b[1;33m=\u001b[0m\u001b[0mfcpl\u001b[0m\u001b[1;33m)\u001b[0m\u001b[1;33m\u001b[0m\u001b[1;33m\u001b[0m\u001b[0m\n\u001b[0;32m    147\u001b[0m     \u001b[1;32melif\u001b[0m \u001b[0mmode\u001b[0m \u001b[1;33m==\u001b[0m \u001b[1;34m'w'\u001b[0m\u001b[1;33m:\u001b[0m\u001b[1;33m\u001b[0m\u001b[1;33m\u001b[0m\u001b[0m\n\u001b[1;32m--> 148\u001b[1;33m         \u001b[0mfid\u001b[0m \u001b[1;33m=\u001b[0m \u001b[0mh5f\u001b[0m\u001b[1;33m.\u001b[0m\u001b[0mcreate\u001b[0m\u001b[1;33m(\u001b[0m\u001b[0mname\u001b[0m\u001b[1;33m,\u001b[0m \u001b[0mh5f\u001b[0m\u001b[1;33m.\u001b[0m\u001b[0mACC_TRUNC\u001b[0m\u001b[1;33m,\u001b[0m \u001b[0mfapl\u001b[0m\u001b[1;33m=\u001b[0m\u001b[0mfapl\u001b[0m\u001b[1;33m,\u001b[0m \u001b[0mfcpl\u001b[0m\u001b[1;33m=\u001b[0m\u001b[0mfcpl\u001b[0m\u001b[1;33m)\u001b[0m\u001b[1;33m\u001b[0m\u001b[1;33m\u001b[0m\u001b[0m\n\u001b[0m\u001b[0;32m    149\u001b[0m     \u001b[1;32melif\u001b[0m \u001b[0mmode\u001b[0m \u001b[1;33m==\u001b[0m \u001b[1;34m'a'\u001b[0m\u001b[1;33m:\u001b[0m\u001b[1;33m\u001b[0m\u001b[1;33m\u001b[0m\u001b[0m\n\u001b[0;32m    150\u001b[0m         \u001b[1;31m# Open in append mode (read/write).\u001b[0m\u001b[1;33m\u001b[0m\u001b[1;33m\u001b[0m\u001b[1;33m\u001b[0m\u001b[0m\n",
      "\u001b[1;32mh5py\\_objects.pyx\u001b[0m in \u001b[0;36mh5py._objects.with_phil.wrapper\u001b[1;34m()\u001b[0m\n",
      "\u001b[1;32mh5py\\_objects.pyx\u001b[0m in \u001b[0;36mh5py._objects.with_phil.wrapper\u001b[1;34m()\u001b[0m\n",
      "\u001b[1;32mh5py\\h5f.pyx\u001b[0m in \u001b[0;36mh5py.h5f.create\u001b[1;34m()\u001b[0m\n",
      "\u001b[1;31mOSError\u001b[0m: Unable to create file (unable to open file: name = '/results/seq2seq_eng-ger.h5', errno = 2, error message = 'No such file or directory', flags = 13, o_flags = 302)"
     ]
    }
   ],
   "source": [
    "model.fit([encoder_input_data, decoder_input_data], decoder_target_data,\n",
    "          batch_size=batch_size,\n",
    "          epochs=epochs,\n",
    "          validation_split=0.2)\n",
    "model.save('seq2seq_eng-ger.h5')"
   ]
  },
  {
   "cell_type": "code",
   "execution_count": 20,
   "id": "center-coral",
   "metadata": {},
   "outputs": [],
   "source": [
    "encoder_model = Model(encoder_inputs, encoder_states)\n",
    "\n",
    "decoder_state_input_h = Input(shape=(latent_dim,))\n",
    "decoder_state_input_c = Input(shape=(latent_dim,))\n",
    "decoder_states_inputs = [decoder_state_input_h, decoder_state_input_c]\n",
    "\n",
    "decoder_outputs, state_h, state_c = decoder_lstm(\n",
    "  decoder_inputs, initial_state=decoder_states_inputs)\n",
    "decoder_states = [state_h, state_c]\n",
    "decoder_outputs = decoder_dense(decoder_outputs)\n",
    "\n",
    "decoder_model = Model(\n",
    "  [decoder_inputs] + decoder_states_inputs,\n",
    "  [decoder_outputs] + decoder_states)"
   ]
  },
  {
   "cell_type": "code",
   "execution_count": 21,
   "id": "romantic-smooth",
   "metadata": {},
   "outputs": [],
   "source": [
    "# reverse-lookup token index to turn sequences back to characters\n",
    "reverse_input_char_index = dict(\n",
    "  (i, char) for char, i in input_token_index.items())\n",
    "reverse_target_char_index = dict(\n",
    "  (i, char) for char, i in target_token_index.items())"
   ]
  },
  {
   "cell_type": "code",
   "execution_count": 22,
   "id": "standing-architecture",
   "metadata": {},
   "outputs": [],
   "source": [
    "def decode_sequence(input_seq):\n",
    "  # encode the input sequence to get the internal state vectors.\n",
    "  states_value = encoder_model.predict(input_seq)\n",
    "  \n",
    "  # generate empty target sequence of length 1 with only the start character\n",
    "  target_seq = np.zeros((1, 1, num_decoder_tokens))\n",
    "  target_seq[0, 0, target_token_index['\\t']] = 1.\n",
    "  \n",
    "  # output sequence loop\n",
    "  stop_condition = False\n",
    "  decoded_sentence = ''\n",
    "  while not stop_condition:\n",
    "    output_tokens, h, c = decoder_model.predict(\n",
    "      [target_seq] + states_value)\n",
    "    \n",
    "    # sample a token and add the corresponding character to the \n",
    "    # decoded sequence\n",
    "    sampled_token_index = np.argmax(output_tokens[0, -1, :])\n",
    "    sampled_char = reverse_target_char_index[sampled_token_index]\n",
    "    decoded_sentence += sampled_char\n",
    "    \n",
    "    # check for the exit condition: either hitting max length\n",
    "    # or predicting the 'stop' character\n",
    "    if (sampled_char == '\\n' or \n",
    "        len(decoded_sentence) > max_decoder_seq_length):\n",
    "      stop_condition = True\n",
    "      \n",
    "    # update the target sequence (length 1).\n",
    "    target_seq = np.zeros((1, 1, num_decoder_tokens))\n",
    "    target_seq[0, 0, sampled_token_index] = 1.\n",
    "    \n",
    "    # update states\n",
    "    states_value = [h, c]\n",
    "    \n",
    "  return decoded_sentence"
   ]
  },
  {
   "cell_type": "code",
   "execution_count": 23,
   "id": "inappropriate-supply",
   "metadata": {},
   "outputs": [
    {
     "name": "stdout",
     "output_type": "stream",
     "text": [
      "-\n",
      "Input sentence: Hi.\n",
      "Decoded sentence: Hallo!\n",
      "\n",
      "-\n",
      "Input sentence: Hi.\n",
      "Decoded sentence: Hallo!\n",
      "\n",
      "-\n",
      "Input sentence: Run!\n",
      "Decoded sentence: Lauf!\n",
      "\n",
      "-\n",
      "Input sentence: Fire!\n",
      "Decoded sentence: Feuer!\n",
      "\n",
      "-\n",
      "Input sentence: Help!\n",
      "Decoded sentence: Zu Hülf!\n",
      "\n",
      "-\n",
      "Input sentence: Help!\n",
      "Decoded sentence: Zu Hülf!\n",
      "\n",
      "-\n",
      "Input sentence: Stop!\n",
      "Decoded sentence: Stopp!\n",
      "\n",
      "-\n",
      "Input sentence: Wait!\n",
      "Decoded sentence: Warte!\n",
      "\n",
      "-\n",
      "Input sentence: Go on.\n",
      "Decoded sentence: Mach weiter.\n",
      "\n",
      "-\n",
      "Input sentence: Hello!\n",
      "Decoded sentence: Hallo!\n",
      "\n"
     ]
    }
   ],
   "source": [
    "for seq_index in range(10):\n",
    "  input_seq = encoder_input_data[seq_index: seq_index + 1]\n",
    "  decoded_sentence = decode_sequence(input_seq)\n",
    "  print('-')\n",
    "  print('Input sentence:', input_texts[seq_index])\n",
    "  print('Decoded sentence:', decoded_sentence)"
   ]
  },
  {
   "cell_type": "code",
   "execution_count": 24,
   "id": "tight-gross",
   "metadata": {},
   "outputs": [],
   "source": [
    "model.save('seq2seq_eng-ger.h5')"
   ]
  },
  {
   "cell_type": "code",
   "execution_count": null,
   "id": "dominant-struggle",
   "metadata": {},
   "outputs": [],
   "source": []
  }
 ],
 "metadata": {
  "kernelspec": {
   "display_name": "Python 3.8 (tensorflow)",
   "language": "python",
   "name": "tensorflow"
  },
  "language_info": {
   "codemirror_mode": {
    "name": "ipython",
    "version": 3
   },
   "file_extension": ".py",
   "mimetype": "text/x-python",
   "name": "python",
   "nbconvert_exporter": "python",
   "pygments_lexer": "ipython3",
   "version": "3.7.9"
  }
 },
 "nbformat": 4,
 "nbformat_minor": 5
}
